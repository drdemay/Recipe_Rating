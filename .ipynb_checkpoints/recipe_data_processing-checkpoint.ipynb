{
 "cells": [
  {
   "cell_type": "markdown",
   "metadata": {
    "slideshow": {
     "slide_type": "slide"
    }
   },
   "source": [
    "# Recipe Rating Machine Learning"
   ]
  },
  {
   "cell_type": "code",
   "execution_count": null,
   "metadata": {
    "slideshow": {
     "slide_type": "slide"
    }
   },
   "outputs": [],
   "source": [
    "import warnings\n",
    "warnings.simplefilter('ignore')\n",
    "\n",
    "# %matplotlib inline\n",
    "import matplotlib.pyplot as plt\n",
    "import numpy as np\n",
    "import pandas as pd\n",
    "\n",
    "import sqlite3\n",
    "from sqlite3 import Error"
   ]
  },
  {
   "cell_type": "markdown",
   "metadata": {
    "slideshow": {
     "slide_type": "subslide"
    }
   },
   "source": [
    "# Dataset:  epicurious_ratings.csv\n",
    "\n",
    "Source: Kaggle (https://www.kaggle.com/hugodarwood/epirecipes#full_format_recipes.json)\n",
    "\n",
    "Recipe information lifted from: http://www.epicurious.com/recipes-menus\n",
    "\n",
    "Description: Recipe data information, containing categorical and nutritional information\n",
    "\n",
    "Variables/Columns  \n",
    "TITLE  \n",
    "RATING: 0.000 to 5.000  \n",
    "  (0.0 - 0.999 = Eww! / 1.0 - 1.999 = Better than not eating / 2.0 - 2.999 = Edible / I guess, 3.000 - 3.999 = Pretty darn good / 4.000 - 4.999 = Git in ma belleh)\n",
    "CALORIES   \n",
    "FAT  \n",
    "SODIUM\n",
    "\n",
    "\n",
    "## Potential future, interesting work to add in...  \n",
    "=> Distribution of ratings..  \n",
    "  => How many ingredients per recipe and does it correlate to an increase in star ratings  \n",
    "=> Locate columns with counts of \"1\"s greater than 1000 (to identify specialty diets and ingrediants) ? Do a for loop and summation  \n",
    "\n",
    "\n",
    "## Questions...\n",
    "\n",
    "\n",
    "optiomal \n",
    "Normal linear regression\n",
    "Use each variable in a neural network... \n",
    "Keras "
   ]
  },
  {
   "cell_type": "code",
   "execution_count": null,
   "metadata": {
    "slideshow": {
     "slide_type": "subslide"
    }
   },
   "outputs": [],
   "source": [
    "# Read the csv file into a pandas DataFrame\n",
    "ratings = pd.read_csv('Resources/epicurious_ratings.csv')\n",
    "ratings"
   ]
  },
  {
   "cell_type": "code",
   "execution_count": null,
   "metadata": {},
   "outputs": [],
   "source": [
    "ratings.shape"
   ]
  },
  {
   "cell_type": "code",
   "execution_count": null,
   "metadata": {},
   "outputs": [],
   "source": [
    "# Create new dataframe with NaN values removed\n",
    "ratings = ratings.dropna(axis=0, how='any', thresh=None, subset=None, inplace=False)\n",
    "ratings"
   ]
  },
  {
   "cell_type": "code",
   "execution_count": null,
   "metadata": {},
   "outputs": [],
   "source": [
    "# Reset the index on the new dataframe\n",
    "ratings.reset_index(drop=True)"
   ]
  },
  {
   "cell_type": "code",
   "execution_count": null,
   "metadata": {},
   "outputs": [],
   "source": [
    "# write this back to csv and for upload to gitHub\n",
    "ratings.to_csv(r\"C:\\Users\\Deanna\\Desktop\\Project3\\Recipe_Rating\\Resources\\epi_ratings_clean.csv\")  "
   ]
  },
  {
   "cell_type": "code",
   "execution_count": null,
   "metadata": {},
   "outputs": [],
   "source": [
    "keep_cols = [\"title\", \"rating\", \"calories\", \"protein\", \"fat\", \"sodium\"]\n",
    "# Potential side chart / analysis - speciality diet ratings / specific ingrediants include: \"vegan\", \"vegetarian\", \"dairy free\", \"wheat/gluten-free\", \n",
    "# \"peanut free\", \"meat\", \"alcoholic\", \"chocolate\", \"cheese\""
   ]
  },
  {
   "cell_type": "code",
   "execution_count": null,
   "metadata": {},
   "outputs": [],
   "source": [
    "ratings = ratings[keep_cols]\n",
    "ratings"
   ]
  },
  {
   "cell_type": "code",
   "execution_count": null,
   "metadata": {},
   "outputs": [],
   "source": [
    "ratings.shape"
   ]
  }
 ],
 "metadata": {
  "anaconda-cloud": {},
  "celltoolbar": "Slideshow",
  "kernelspec": {
   "display_name": "Python 3",
   "language": "python",
   "name": "python3"
  },
  "language_info": {
   "codemirror_mode": {
    "name": "ipython",
    "version": 3
   },
   "file_extension": ".py",
   "mimetype": "text/x-python",
   "name": "python",
   "nbconvert_exporter": "python",
   "pygments_lexer": "ipython3",
   "version": "3.6.9"
  },
  "varInspector": {
   "cols": {
    "lenName": 16,
    "lenType": 16,
    "lenVar": 40
   },
   "kernels_config": {
    "python": {
     "delete_cmd_postfix": "",
     "delete_cmd_prefix": "del ",
     "library": "var_list.py",
     "varRefreshCmd": "print(var_dic_list())"
    },
    "r": {
     "delete_cmd_postfix": ") ",
     "delete_cmd_prefix": "rm(",
     "library": "var_list.r",
     "varRefreshCmd": "cat(var_dic_list()) "
    }
   },
   "types_to_exclude": [
    "module",
    "function",
    "builtin_function_or_method",
    "instance",
    "_Feature"
   ],
   "window_display": false
  }
 },
 "nbformat": 4,
 "nbformat_minor": 2
}
